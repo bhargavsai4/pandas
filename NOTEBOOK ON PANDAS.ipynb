{
 "cells": [
  {
   "cell_type": "markdown",
   "id": "64e6598e-e5d7-4b99-9944-b5f006e7e11d",
   "metadata": {},
   "source": [
    "# Introduction to Pandas: Creating DataFrames, Handling Data, and Performing Analysis"
   ]
  },
  {
   "cell_type": "markdown",
   "id": "987dc441-0d3c-468e-9508-947d39f8129e",
   "metadata": {},
   "source": [
    "1. GETTING FAMILIAR WITH PANDAS"
   ]
  },
  {
   "cell_type": "markdown",
   "id": "63c3cd49-718c-48ab-b7fa-df5b8833d417",
   "metadata": {},
   "source": [
    "Pandas is a powerful library in Python for data manipulation and analysis. It provides two primary data structures: DataFrame and Series."
   ]
  },
  {
   "cell_type": "markdown",
   "id": "f17bb384-b5e1-4107-9de8-f0c9760e9653",
   "metadata": {},
   "source": [
    "From Lists"
   ]
  },
  {
   "cell_type": "code",
   "execution_count": 1,
   "id": "5ce9254d-a127-441a-878c-2af48cde2c64",
   "metadata": {},
   "outputs": [
    {
     "name": "stdout",
     "output_type": "stream",
     "text": [
      "    Name  Age\n",
      "0  Alice   25\n",
      "1    Bob   30\n",
      "2  Cathy   35\n",
      "0    10\n",
      "1    20\n",
      "2    30\n",
      "dtype: int64\n"
     ]
    }
   ],
   "source": [
    "import pandas as pd\n",
    "\n",
    "data = [['Alice', 25], ['Bob', 30], ['Cathy', 35]]\n",
    "df = pd.DataFrame(data, columns=['Name', 'Age'])\n",
    "\n",
    "print(df)\n",
    "\n",
    "s = pd.Series([10, 20, 30])\n",
    "\n",
    "print(s)\n"
   ]
  },
  {
   "cell_type": "markdown",
   "id": "781c5888-b95c-4b5a-9869-f38f487e1a29",
   "metadata": {},
   "source": [
    "From Dictionaries"
   ]
  },
  {
   "cell_type": "code",
   "execution_count": 5,
   "id": "ca2e8f3c-53a7-4474-80c1-85e8ca537760",
   "metadata": {},
   "outputs": [
    {
     "name": "stdout",
     "output_type": "stream",
     "text": [
      "    Name  Age\n",
      "0  Alice   25\n",
      "1    Bob   30\n",
      "2  Cathy   35\n",
      "a    1\n",
      "b    2\n",
      "c    3\n",
      "dtype: int64\n"
     ]
    }
   ],
   "source": [
    "import pandas as pd\n",
    "\n",
    "data = {'Name': ['Alice', 'Bob', 'Cathy'], 'Age': [25, 30, 35]}\n",
    "df = pd.DataFrame(data)\n",
    "\n",
    "print(df)\n",
    "\n",
    "s = pd.Series({'a': 1, 'b': 2, 'c': 3})\n",
    "\n",
    "print(s)\n"
   ]
  },
  {
   "cell_type": "markdown",
   "id": "563e7801-d81d-44f4-ac21-471edddbc3c9",
   "metadata": {},
   "source": [
    "COMMON OPERATIONS"
   ]
  },
  {
   "cell_type": "markdown",
   "id": "bae28af1-f4d2-4b2e-ac8a-c7c6d89072ff",
   "metadata": {},
   "source": [
    "Selecting Data"
   ]
  },
  {
   "cell_type": "code",
   "execution_count": 6,
   "id": "b8297bfb-c934-4d32-8bd8-797d3a5af39b",
   "metadata": {},
   "outputs": [
    {
     "name": "stdout",
     "output_type": "stream",
     "text": [
      "0    Alice\n",
      "1      Bob\n",
      "2    Cathy\n",
      "Name: Name, dtype: object\n",
      "Name    Bob\n",
      "Age      30\n",
      "Name: 1, dtype: object\n"
     ]
    }
   ],
   "source": [
    "import pandas as pd\n",
    "\n",
    "df = pd.DataFrame({'Name': ['Alice', 'Bob', 'Cathy'], 'Age': [25, 30, 35]})\n",
    "\n",
    "print(df['Name'])\n",
    "print(df.iloc[1])\n"
   ]
  },
  {
   "cell_type": "markdown",
   "id": "7335c9a7-490d-4926-8d28-b351fae5edfe",
   "metadata": {},
   "source": [
    "Filtering Rows"
   ]
  },
  {
   "cell_type": "code",
   "execution_count": 7,
   "id": "5f1558ec-4d3c-4a51-850b-47e34c7086bd",
   "metadata": {},
   "outputs": [
    {
     "name": "stdout",
     "output_type": "stream",
     "text": [
      "    Name  Age\n",
      "2  Cathy   35\n"
     ]
    }
   ],
   "source": [
    "import pandas as pd\n",
    "\n",
    "df = pd.DataFrame({'Name': ['Alice', 'Bob', 'Cathy'], 'Age': [25, 30, 35]})\n",
    "\n",
    "filtered_df = df[df['Age'] > 30]\n",
    "\n",
    "print(filtered_df)\n"
   ]
  },
  {
   "cell_type": "markdown",
   "id": "4b17e401-531b-4a12-b534-60a07a21ddec",
   "metadata": {},
   "source": [
    "Modifying Data"
   ]
  },
  {
   "cell_type": "code",
   "execution_count": 10,
   "id": "7bc46729-518b-4f39-9f0a-266ef0af0ec2",
   "metadata": {},
   "outputs": [
    {
     "name": "stdout",
     "output_type": "stream",
     "text": [
      "    Name  Age         City\n",
      "0  Alice   26     New York\n",
      "1    Bob   31  Los Angeles\n",
      "2  Cathy   36      Chicago\n"
     ]
    }
   ],
   "source": [
    "import pandas as pd\n",
    "\n",
    "df = pd.DataFrame({'Name': ['Alice', 'Bob', 'Cathy'], 'Age': [25, 30, 35]})\n",
    "\n",
    "df['City'] = ['New York', 'Los Angeles', 'Chicago']\n",
    "df['Age'] = df['Age'] + 1\n",
    "\n",
    "print(df)\n"
   ]
  },
  {
   "cell_type": "markdown",
   "id": "dc10bb25-cc0d-4620-9c45-a2f71496a96d",
   "metadata": {},
   "source": [
    "HANDLING MISSING DATA"
   ]
  },
  {
   "cell_type": "code",
   "execution_count": 11,
   "id": "70b74e01-38aa-49f1-84ba-d864f269115f",
   "metadata": {},
   "outputs": [
    {
     "name": "stdout",
     "output_type": "stream",
     "text": [
      "      Name   Age\n",
      "0    Alice  25.0\n",
      "1      Bob  30.0\n",
      "2  Unknown  35.0\n",
      "    Name   Age\n",
      "0  Alice  25.0\n"
     ]
    }
   ],
   "source": [
    "import pandas as pd\n",
    "\n",
    "df = pd.DataFrame({'Name': ['Alice', 'Bob', None], 'Age': [25, None, 35]})\n",
    "\n",
    "df_filled = df.fillna({'Name': 'Unknown', 'Age': df['Age'].mean()})\n",
    "df_dropped = df.dropna()\n",
    "\n",
    "print(df_filled)\n",
    "print(df_dropped)\n"
   ]
  },
  {
   "cell_type": "markdown",
   "id": "3747abb2-86aa-46a3-8d9e-e0c2bbefc3af",
   "metadata": {},
   "source": [
    "TRANSFORMING DATA"
   ]
  },
  {
   "cell_type": "code",
   "execution_count": 12,
   "id": "0abd31aa-a3e2-448a-9f3e-925790716cf9",
   "metadata": {},
   "outputs": [
    {
     "name": "stdout",
     "output_type": "stream",
     "text": [
      "    Name  Years\n",
      "0  Alice   25.0\n",
      "1    Bob   30.0\n",
      "2  Cathy   35.0\n"
     ]
    }
   ],
   "source": [
    "import pandas as pd\n",
    "\n",
    "df = pd.DataFrame({'Name': ['Alice', 'Bob', 'Cathy'], 'Age': [25, 30, 35]})\n",
    "\n",
    "df['Age'] = df['Age'].astype(float)\n",
    "df.rename(columns={'Age': 'Years'}, inplace=True)\n",
    "\n",
    "print(df)\n"
   ]
  },
  {
   "cell_type": "markdown",
   "id": "1dc2d2ca-01df-4689-952e-cd26290d1234",
   "metadata": {},
   "source": [
    "3. DATA ANALYSIS WITH PANDAS"
   ]
  },
  {
   "cell_type": "code",
   "execution_count": 13,
   "id": "fdf9079f-f7a4-4989-820e-52d3b11efd7f",
   "metadata": {},
   "outputs": [
    {
     "name": "stdout",
     "output_type": "stream",
     "text": [
      "        Age\n",
      "count   3.0\n",
      "mean   30.0\n",
      "std     5.0\n",
      "min    25.0\n",
      "25%    27.5\n",
      "50%    30.0\n",
      "75%    32.5\n",
      "max    35.0\n"
     ]
    }
   ],
   "source": [
    "import pandas as pd\n",
    "\n",
    "df = pd.DataFrame({'Name': ['Alice', 'Bob', 'Cathy'], 'Age': [25, 30, 35]})\n",
    "\n",
    "summary = df.describe()\n",
    "\n",
    "print(summary)\n"
   ]
  },
  {
   "cell_type": "markdown",
   "id": "cf6ed089-2b0d-4f0c-8457-940ff2263b43",
   "metadata": {},
   "source": [
    "GROUPING DATA AND APPLYING AGGREGATE FUNCTIONS"
   ]
  },
  {
   "cell_type": "code",
   "execution_count": 14,
   "id": "52d28419-dcee-4a4f-afee-b5629131e833",
   "metadata": {},
   "outputs": [
    {
     "name": "stdout",
     "output_type": "stream",
     "text": [
      "Name\n",
      "Alice    26.0\n",
      "Bob      30.0\n",
      "Cathy    35.0\n",
      "Name: Age, dtype: float64\n"
     ]
    }
   ],
   "source": [
    "import pandas as pd\n",
    "\n",
    "df = pd.DataFrame({'Name': ['Alice', 'Bob', 'Cathy', 'Alice'], 'Age': [25, 30, 35, 27]})\n",
    "\n",
    "grouped = df.groupby('Name')['Age'].mean()\n",
    "\n",
    "print(grouped)\n"
   ]
  },
  {
   "cell_type": "markdown",
   "id": "435c1915-4ae5-43af-a0c2-1c8dc8d234d2",
   "metadata": {},
   "source": [
    "MERGING, JOINING, AND CONCATENATING DATAFRAMES"
   ]
  },
  {
   "cell_type": "code",
   "execution_count": 15,
   "id": "d3bac767-0f51-4c26-92ab-1b857ca97a05",
   "metadata": {},
   "outputs": [
    {
     "name": "stdout",
     "output_type": "stream",
     "text": [
      "    Name  Age         City\n",
      "0  Alice   25     New York\n",
      "1    Bob   30  Los Angeles\n",
      "    Name  Age   Name         City\n",
      "0  Alice   25  Alice     New York\n",
      "1    Bob   30    Bob  Los Angeles\n"
     ]
    }
   ],
   "source": [
    "import pandas as pd\n",
    "\n",
    "df1 = pd.DataFrame({'Name': ['Alice', 'Bob'], 'Age': [25, 30]})\n",
    "df2 = pd.DataFrame({'Name': ['Alice', 'Bob'], 'City': ['New York', 'Los Angeles']})\n",
    "\n",
    "merged_df = pd.merge(df1, df2, on='Name')\n",
    "concatenated_df = pd.concat([df1, df2], axis=1)\n",
    "\n",
    "print(merged_df)\n",
    "print(concatenated_df)\n"
   ]
  },
  {
   "cell_type": "markdown",
   "id": "2588f429-b619-4fbf-b962-117d40595080",
   "metadata": {},
   "source": [
    "4. APPLICATION IN DATA SCIENCE"
   ]
  },
  {
   "cell_type": "markdown",
   "id": "7bd92495-abd4-4f4a-9bfe-4baaef408539",
   "metadata": {},
   "source": [
    "ADVANTAGES OF USING PANDAS\n",
    "Versatility: Handles a wide range of data types and formats.\n",
    "Ease of Use: Intuitive syntax and extensive documentation.\n",
    "Integration: Seamless with other data science libraries."
   ]
  },
  {
   "cell_type": "markdown",
   "id": "4e10c8d3-e886-4b72-ba58-88760a581f2b",
   "metadata": {},
   "source": [
    "REAL-WORLD EXAMPLES                                    \n",
    "Data Cleaning                                                       \n",
    "Exploratory Data Analysis (EDA)                                                \n",
    "Data Transformation for Machine Learning"
   ]
  },
  {
   "cell_type": "markdown",
   "id": "2cec7592-ff6b-454f-b623-587981743e03",
   "metadata": {},
   "source": [
    "1. Data Cleaning"
   ]
  },
  {
   "cell_type": "code",
   "execution_count": 18,
   "id": "e7068b74-cd78-493d-b445-937564217a5d",
   "metadata": {},
   "outputs": [
    {
     "name": "stdout",
     "output_type": "stream",
     "text": [
      "Cleaned DataFrame:\n",
      "    Name   Age   Salary\n",
      "0  Alice  25.0  50000.0\n",
      "1    Bob   NaN  60000.0\n",
      "2  Cathy  37.0      NaN\n",
      "3   None  40.0  70000.0\n",
      "4    Eve   NaN  80000.0\n"
     ]
    }
   ],
   "source": [
    "import pandas as pd\n",
    "\n",
    "data = {\n",
    "    'Name': ['Alice', 'Bob', 'Cathy', None, 'Eve'],\n",
    "    'Age': [25, None, 37, 40, 'unknown'],\n",
    "    'Salary': [50000, 60000, None, 70000, 80000]\n",
    "}\n",
    "\n",
    "df = pd.DataFrame(data)\n",
    "\n",
    "df['Name'].fillna('Unknown')\n",
    "df['Age'] = pd.to_numeric(df['Age'], errors='coerce')\n",
    "df['Salary'].fillna(df['Salary'].mean())\n",
    "\n",
    "print(\"Cleaned DataFrame:\")\n",
    "print(df)\n"
   ]
  },
  {
   "cell_type": "markdown",
   "id": "e82c5843-e177-4ea6-9e05-1c29a747f4e8",
   "metadata": {},
   "source": [
    "2. Exploratory Data Analysis (EDA)"
   ]
  },
  {
   "cell_type": "code",
   "execution_count": 19,
   "id": "f9a65e01-bebd-4b34-8c9b-d68d375dabde",
   "metadata": {},
   "outputs": [
    {
     "name": "stdout",
     "output_type": "stream",
     "text": [
      "Summary Statistics:\n",
      "            Age        Salary\n",
      "count   5.00000      5.000000\n",
      "mean   35.40000  70000.000000\n",
      "std     7.95613  15811.388301\n",
      "min    25.00000  50000.000000\n",
      "25%    30.00000  60000.000000\n",
      "50%    37.00000  70000.000000\n",
      "75%    40.00000  80000.000000\n",
      "max    45.00000  90000.000000\n"
     ]
    },
    {
     "data": {
      "image/png": "[encoded data removed]",
      "text/plain": [
       "<Figure size 1000x500 with 1 Axes>"
      ]
     },
     "metadata": {},
     "output_type": "display_data"
    },
    {
     "data": {
      "image/png": "[encoded data removed]",
      "text/plain": [
       "<Figure size 1000x500 with 1 Axes>"
      ]
     },
     "metadata": {},
     "output_type": "display_data"
    }
   ],
   "source": [
    "import pandas as pd\n",
    "import matplotlib.pyplot as plt\n",
    "import seaborn as sns\n",
    "\n",
    "data = {\n",
    "    'Name': ['Alice', 'Bob', 'Cathy', 'Doug', 'Eve'],\n",
    "    'Age': [25, 30, 37, 45, 40],\n",
    "    'Salary': [50000, 60000, 70000, 80000, 90000]\n",
    "}\n",
    "\n",
    "df = pd.DataFrame(data)\n",
    "\n",
    "print(\"Summary Statistics:\")\n",
    "print(df.describe())\n",
    "\n",
    "plt.figure(figsize=(10, 5))\n",
    "plt.hist(df['Age'], bins=5, edgecolor='black')\n",
    "plt.title('Histogram of Ages')\n",
    "plt.xlabel('Age')\n",
    "plt.ylabel('Frequency')\n",
    "plt.show()\n",
    "\n",
    "plt.figure(figsize=(10, 5))\n",
    "sns.scatterplot(x='Age', y='Salary', data=df)\n",
    "plt.title('Scatter Plot of Salary vs. Age')\n",
    "plt.xlabel('Age')\n",
    "plt.ylabel('Salary')\n",
    "plt.show()\n"
   ]
  },
  {
   "cell_type": "markdown",
   "id": "1fe08f8a-8cf9-4309-bd86-555544b4acf4",
   "metadata": {},
   "source": [
    "Conclusion"
   ]
  },
  {
   "cell_type": "markdown",
   "id": "5c198c4e-8d02-4be2-8994-e4077caac442",
   "metadata": {},
   "source": [
    "Pandas is a powerful library in Python that plays a crucial role in data manipulation and analysis. Through the exploration of its functionalities and application in various data-related tasks, we gain insights into why Pandas is an indispensable tool for data science professionals,In summary, Pandas is a vital tool for data scientists, providing robust capabilities for data manipulation, analysis, and transformation. Its advantages over traditional methods and its real-world applicability underscore its importance in the field of data science."
   ]
  },
  {
   "cell_type": "code",
   "execution_count": null,
   "id": "52815148-0d5f-4a2f-a42a-7a2e895a23fb",
   "metadata": {},
   "outputs": [],
   "source": []
  }
 ],
 "metadata": {
  "kernelspec": {
   "display_name": "Python 3 (ipykernel)",
   "language": "python",
   "name": "python3"
  },
  "language_info": {
   "codemirror_mode": {
    "name": "ipython",
    "version": 3
   },
   "file_extension": ".py",
   "mimetype": "text/x-python",
   "name": "python",
   "nbconvert_exporter": "python",
   "pygments_lexer": "ipython3",
   "version": "3.12.4"
  }
 },
 "nbformat": 4,
 "nbformat_minor": 5
}
